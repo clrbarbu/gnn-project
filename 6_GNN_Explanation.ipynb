{
  "nbformat": 4,
  "nbformat_minor": 0,
  "metadata": {
    "colab": {
      "name": "6. GNN Explanation.ipynb",
      "provenance": [],
      "collapsed_sections": [],
      "include_colab_link": true
    },
    "kernelspec": {
      "display_name": "Python 3",
      "name": "python3"
    }
  },
  "cells": [
    {
      "cell_type": "markdown",
      "metadata": {
        "id": "view-in-github",
        "colab_type": "text"
      },
      "source": [
        "<a href=\"https://colab.research.google.com/github/clrbarbu/gnn-project/blob/main/6_GNN_Explanation.ipynb\" target=\"_parent\"><img src=\"https://colab.research.google.com/assets/colab-badge.svg\" alt=\"Open In Colab\"/></a>"
      ]
    },
    {
      "cell_type": "code",
      "metadata": {
        "colab": {
          "base_uri": "https://localhost:8080/"
        },
        "id": "F1op-CbyLuN4",
        "outputId": "2eaa2ecb-edc6-49c7-c4ec-9e04c2c7e520"
      },
      "source": [
        "# Install required packages.\n",
        "!pip install -q torch-scatter -f https://data.pyg.org/whl/torch-1.10.0+cu113.html\n",
        "!pip install -q torch-sparse -f https://data.pyg.org/whl/torch-1.10.0+cu113.html\n",
        "!pip install -q git+https://github.com/pyg-team/pytorch_geometric.git\n",
        "!pip install -q captum\n",
        "\n",
        "# Helper function for visualization.\n",
        "%matplotlib inline\n",
        "import matplotlib.pyplot as plt"
      ],
      "execution_count": 1,
      "outputs": [
        {
          "output_type": "stream",
          "name": "stdout",
          "text": [
            "\u001b[K     |████████████████████████████████| 7.9 MB 4.6 MB/s \n",
            "\u001b[K     |████████████████████████████████| 3.5 MB 5.3 MB/s \n",
            "\u001b[K     |████████████████████████████████| 482 kB 5.5 MB/s \n",
            "\u001b[K     |████████████████████████████████| 41 kB 473 kB/s \n",
            "\u001b[?25h  Building wheel for torch-geometric (setup.py) ... \u001b[?25l\u001b[?25hdone\n",
            "\u001b[K     |████████████████████████████████| 1.4 MB 5.1 MB/s \n",
            "\u001b[?25h"
          ]
        }
      ]
    },
    {
      "cell_type": "markdown",
      "metadata": {
        "id": "nMTL0kk0seBw"
      },
      "source": [
        "# Explaining GNN Model Predictions using Captum\n",
        "\n",
        "In this tutorial we demonstrate how to apply feature attribution methods to graphs. Specifically, we try to find the most important edges for each instance prediction.  \n",
        "\n",
        "We use the Mutagenicity dataset from [TUDatasets](https://chrsmrrs.github.io/datasets/). This dataset consists of 4337 molecule graphs where the task is to predict the molecule mutagenicity."
      ]
    },
    {
      "cell_type": "markdown",
      "metadata": {
        "id": "mJtgD2A1uJAa"
      },
      "source": [
        "## Loading the dataset\n",
        "\n",
        "We load the dataset and use 10% of the data as the test split."
      ]
    },
    {
      "cell_type": "code",
      "metadata": {
        "colab": {
          "base_uri": "https://localhost:8080/"
        },
        "id": "SE2iREv4q2dL",
        "outputId": "2f4859b9-57ba-4fec-d4f3-f14f20da8a58"
      },
      "source": [
        "from torch_geometric.loader import DataLoader\n",
        "from torch_geometric.datasets import TUDataset\n",
        "\n",
        "path = '.'\n",
        "dataset = TUDataset(path, name='Mutagenicity').shuffle()\n",
        "\n",
        "test_dataset = dataset[:len(dataset) // 10]\n",
        "train_dataset = dataset[len(dataset) // 10:]\n",
        "\n",
        "test_loader = DataLoader(test_dataset, batch_size=128)\n",
        "train_loader = DataLoader(train_dataset, batch_size=128)"
      ],
      "execution_count": 2,
      "outputs": [
        {
          "output_type": "stream",
          "name": "stderr",
          "text": [
            "Downloading https://www.chrsmrrs.com/graphkerneldatasets/Mutagenicity.zip\n",
            "Extracting ./Mutagenicity/Mutagenicity.zip\n",
            "Processing...\n",
            "Done!\n"
          ]
        }
      ]
    },
    {
      "cell_type": "markdown",
      "metadata": {
        "id": "g35SSQ3oukNM"
      },
      "source": [
        "## Visualizing the data\n",
        "\n",
        "We define some utility functions for visualizing the molecules and draw a random molecule."
      ]
    },
    {
      "cell_type": "code",
      "metadata": {
        "id": "9Hh3YNASuYxm"
      },
      "source": [
        "import networkx as nx\n",
        "import numpy as np\n",
        "\n",
        "from torch_geometric.utils import to_networkx\n",
        "\n",
        "\n",
        "def draw_molecule(g, edge_mask=None, draw_edge_labels=False):\n",
        "    g = g.copy().to_undirected()\n",
        "    node_labels = {}\n",
        "    for u, data in g.nodes(data=True):\n",
        "        node_labels[u] = data['name']\n",
        "    pos = nx.planar_layout(g)\n",
        "    pos = nx.spring_layout(g, pos=pos)\n",
        "    if edge_mask is None:\n",
        "        edge_color = 'black'\n",
        "        widths = None\n",
        "    else:\n",
        "        edge_color = [edge_mask[(u, v)] for u, v in g.edges()]\n",
        "        widths = [x * 10 for x in edge_color]\n",
        "    nx.draw(g, pos=pos, labels=node_labels, width=widths,\n",
        "            edge_color=edge_color, edge_cmap=plt.cm.Blues,\n",
        "            node_color='azure')\n",
        "    \n",
        "    if draw_edge_labels and edge_mask is not None:\n",
        "        edge_labels = {k: ('%.2f' % v) for k, v in edge_mask.items()}    \n",
        "        nx.draw_networkx_edge_labels(g, pos, edge_labels=edge_labels,\n",
        "                                    font_color='red')\n",
        "    plt.show()\n",
        "\n",
        "\n",
        "def to_molecule(data):\n",
        "    ATOM_MAP = ['C', 'O', 'Cl', 'H', 'N', 'F',\n",
        "                'Br', 'S', 'P', 'I', 'Na', 'K', 'Li', 'Ca']\n",
        "    g = to_networkx(data, node_attrs=['x'])\n",
        "    for u, data in g.nodes(data=True):\n",
        "        data['name'] = ATOM_MAP[data['x'].index(1.0)]\n",
        "        del data['x']\n",
        "    return g\n"
      ],
      "execution_count": 3,
      "outputs": []
    },
    {
      "cell_type": "markdown",
      "metadata": {
        "id": "cJ3JuTH1vV1V"
      },
      "source": [
        "## Sample visualization\n",
        "\n",
        "We sample a single molecule from train_dataset and visualize it"
      ]
    },
    {
      "cell_type": "code",
      "metadata": {
        "colab": {
          "base_uri": "https://localhost:8080/",
          "height": 391
        },
        "id": "4Z2uE7zVuhXU",
        "outputId": "49999701-7531-4e13-cb2a-d5e99d775611"
      },
      "source": [
        "import random\n",
        "\n",
        "data = random.choice([t for t in train_dataset])\n",
        "mol = to_molecule(data)\n",
        "plt.figure(figsize=(10, 5))\n",
        "draw_molecule(mol)"
      ],
      "execution_count": 6,
      "outputs": [
        {
          "output_type": "display_data",
          "data": {
            "image/png": "[encoded data removed]",
            "text/plain": [
              "<Figure size 720x360 with 1 Axes>"
            ]
          },
          "metadata": {}
        }
      ]
    },
    {
      "cell_type": "markdown",
      "metadata": {
        "id": "6kZo9g1hwCGG"
      },
      "source": [
        "## Training the model\n",
        "\n",
        "In the next section, we train a GNN model with 5 convolution layers. We use GraphConv which supports `edge_weight` as a parameter. Many convolution layers in Pytorch Geometric supoort this argument."
      ]
    },
    {
      "cell_type": "markdown",
      "metadata": {
        "id": "GBVIOfMCCHAb"
      },
      "source": [
        "### Define the model"
      ]
    },
    {
      "cell_type": "code",
      "metadata": {
        "id": "iI1qpFUhrA2p"
      },
      "source": [
        "import torch\n",
        "from torch.nn import Linear\n",
        "import torch.nn.functional as F\n",
        "\n",
        "from torch_geometric.nn import GraphConv, global_add_pool\n",
        "\n",
        "class Net(torch.nn.Module):\n",
        "    def __init__(self, dim):\n",
        "        super(Net, self).__init__()\n",
        "\n",
        "        num_features = dataset.num_features\n",
        "        self.dim = dim\n",
        "\n",
        "        self.conv1 = GraphConv(num_features, dim)\n",
        "        self.conv2 = GraphConv(dim, dim)\n",
        "        self.conv3 = GraphConv(dim, dim)\n",
        "        self.conv4 = GraphConv(dim, dim)\n",
        "        self.conv5 = GraphConv(dim, dim)\n",
        "\n",
        "        self.lin1 = Linear(dim, dim)\n",
        "        self.lin2 = Linear(dim, dataset.num_classes)\n",
        "\n",
        "    def forward(self, x, edge_index, batch, edge_weight=None):\n",
        "        x = self.conv1(x, edge_index, edge_weight).relu()\n",
        "        x = self.conv2(x, edge_index, edge_weight).relu()\n",
        "        x = self.conv3(x, edge_index, edge_weight).relu()\n",
        "        x = self.conv4(x, edge_index, edge_weight).relu()\n",
        "        x = self.conv5(x, edge_index, edge_weight).relu()\n",
        "        x = global_add_pool(x, batch)\n",
        "        x = self.lin1(x).relu()\n",
        "        x = F.dropout(x, p=0.5, training=self.training)\n",
        "        x = self.lin2(x)\n",
        "        return F.log_softmax(x, dim=-1)\n"
      ],
      "execution_count": 7,
      "outputs": []
    },
    {
      "cell_type": "markdown",
      "metadata": {
        "id": "L3WOZ40OCKO5"
      },
      "source": [
        "### Define train and test functions"
      ]
    },
    {
      "cell_type": "code",
      "metadata": {
        "id": "ExNsODp3rKjN"
      },
      "source": [
        "def train(epoch):\n",
        "    model.train()\n",
        "\n",
        "    if epoch == 51:\n",
        "        for param_group in optimizer.param_groups:\n",
        "            param_group['lr'] = 0.5 * param_group['lr']\n",
        "\n",
        "    loss_all = 0\n",
        "    for data in train_loader:\n",
        "        data = data.to(device)\n",
        "        optimizer.zero_grad()\n",
        "        output = model(data.x, data.edge_index, data.batch)\n",
        "        loss = F.nll_loss(output, data.y)\n",
        "        loss.backward()\n",
        "        loss_all += loss.item() * data.num_graphs\n",
        "        optimizer.step()\n",
        "    return loss_all / len(train_dataset)\n",
        "\n",
        "\n",
        "def test(loader):\n",
        "    model.eval()\n",
        "\n",
        "    correct = 0\n",
        "    for data in loader:\n",
        "        data = data.to(device)\n",
        "        output = model(data.x, data.edge_index, data.batch)\n",
        "        pred = output.max(dim=1)[1]\n",
        "        correct += pred.eq(data.y).sum().item()\n",
        "    return correct / len(loader.dataset)"
      ],
      "execution_count": 8,
      "outputs": []
    },
    {
      "cell_type": "markdown",
      "metadata": {
        "id": "rsv9CQ6hCNMI"
      },
      "source": [
        "### Train the model for 100 epochs\n",
        "\n",
        "The accuracy should be around 80% in the end"
      ]
    },
    {
      "cell_type": "code",
      "metadata": {
        "colab": {
          "base_uri": "https://localhost:8080/"
        },
        "id": "4imSoTlMrQdN",
        "outputId": "314e9dea-669e-4af8-db69-a9cdfe34465b"
      },
      "source": [
        "device = torch.device('cuda' if torch.cuda.is_available() else 'cpu')\n",
        "\n",
        "model = Net(dim=32).to(device)\n",
        "print(model)\n",
        "\n",
        "optimizer = torch.optim.Adam(model.parameters(), lr=0.001)\n",
        "\n",
        "for epoch in range(1, 101):\n",
        "    loss = train(epoch)\n",
        "    train_acc = test(train_loader)\n",
        "    test_acc = test(test_loader)\n",
        "    print(f'Epoch: {epoch:03d}, Loss: {loss:.4f}, '\n",
        "          f'Train Acc: {train_acc:.4f}, Test Acc: {test_acc:.4f}')\n"
      ],
      "execution_count": 9,
      "outputs": [
        {
          "output_type": "stream",
          "name": "stdout",
          "text": [
            "Net(\n",
            "  (conv1): GraphConv(14, 32)\n",
            "  (conv2): GraphConv(32, 32)\n",
            "  (conv3): GraphConv(32, 32)\n",
            "  (conv4): GraphConv(32, 32)\n",
            "  (conv5): GraphConv(32, 32)\n",
            "  (lin1): Linear(in_features=32, out_features=32, bias=True)\n",
            "  (lin2): Linear(in_features=32, out_features=2, bias=True)\n",
            ")\n",
            "Epoch: 001, Loss: 0.7829, Train Acc: 0.6504, Test Acc: 0.6374\n",
            "Epoch: 002, Loss: 0.6274, Train Acc: 0.6765, Test Acc: 0.6328\n",
            "Epoch: 003, Loss: 0.5955, Train Acc: 0.6970, Test Acc: 0.6559\n",
            "Epoch: 004, Loss: 0.5769, Train Acc: 0.7293, Test Acc: 0.6605\n",
            "Epoch: 005, Loss: 0.5611, Train Acc: 0.7318, Test Acc: 0.6697\n",
            "Epoch: 006, Loss: 0.5620, Train Acc: 0.7485, Test Acc: 0.6905\n",
            "Epoch: 007, Loss: 0.5380, Train Acc: 0.7551, Test Acc: 0.7090\n",
            "Epoch: 008, Loss: 0.5297, Train Acc: 0.7679, Test Acc: 0.7275\n",
            "Epoch: 009, Loss: 0.5131, Train Acc: 0.7700, Test Acc: 0.7390\n",
            "Epoch: 010, Loss: 0.5055, Train Acc: 0.7738, Test Acc: 0.7483\n",
            "Epoch: 011, Loss: 0.5008, Train Acc: 0.7795, Test Acc: 0.7552\n",
            "Epoch: 012, Loss: 0.4884, Train Acc: 0.7935, Test Acc: 0.7667\n",
            "Epoch: 013, Loss: 0.4854, Train Acc: 0.7848, Test Acc: 0.7483\n",
            "Epoch: 014, Loss: 0.4825, Train Acc: 0.7974, Test Acc: 0.7737\n",
            "Epoch: 015, Loss: 0.4821, Train Acc: 0.7474, Test Acc: 0.7344\n",
            "Epoch: 016, Loss: 0.4853, Train Acc: 0.7982, Test Acc: 0.7737\n",
            "Epoch: 017, Loss: 0.4728, Train Acc: 0.7997, Test Acc: 0.7852\n",
            "Epoch: 018, Loss: 0.4591, Train Acc: 0.8017, Test Acc: 0.7806\n",
            "Epoch: 019, Loss: 0.4552, Train Acc: 0.8163, Test Acc: 0.7991\n",
            "Epoch: 020, Loss: 0.4505, Train Acc: 0.8087, Test Acc: 0.7760\n",
            "Epoch: 021, Loss: 0.4506, Train Acc: 0.8153, Test Acc: 0.7945\n",
            "Epoch: 022, Loss: 0.4427, Train Acc: 0.8210, Test Acc: 0.7898\n",
            "Epoch: 023, Loss: 0.4358, Train Acc: 0.8184, Test Acc: 0.8083\n",
            "Epoch: 024, Loss: 0.4294, Train Acc: 0.8240, Test Acc: 0.8037\n",
            "Epoch: 025, Loss: 0.4267, Train Acc: 0.8220, Test Acc: 0.8060\n",
            "Epoch: 026, Loss: 0.4301, Train Acc: 0.8302, Test Acc: 0.7875\n",
            "Epoch: 027, Loss: 0.4165, Train Acc: 0.8348, Test Acc: 0.8060\n",
            "Epoch: 028, Loss: 0.4296, Train Acc: 0.8189, Test Acc: 0.8106\n",
            "Epoch: 029, Loss: 0.4144, Train Acc: 0.8358, Test Acc: 0.7898\n",
            "Epoch: 030, Loss: 0.4131, Train Acc: 0.8166, Test Acc: 0.7898\n",
            "Epoch: 031, Loss: 0.4135, Train Acc: 0.8345, Test Acc: 0.7921\n",
            "Epoch: 032, Loss: 0.4050, Train Acc: 0.8440, Test Acc: 0.8083\n",
            "Epoch: 033, Loss: 0.4030, Train Acc: 0.8407, Test Acc: 0.8106\n",
            "Epoch: 034, Loss: 0.4006, Train Acc: 0.8304, Test Acc: 0.8014\n",
            "Epoch: 035, Loss: 0.3974, Train Acc: 0.8445, Test Acc: 0.8060\n",
            "Epoch: 036, Loss: 0.3913, Train Acc: 0.8394, Test Acc: 0.7991\n",
            "Epoch: 037, Loss: 0.3860, Train Acc: 0.8312, Test Acc: 0.7945\n",
            "Epoch: 038, Loss: 0.3966, Train Acc: 0.8340, Test Acc: 0.7991\n",
            "Epoch: 039, Loss: 0.3816, Train Acc: 0.8414, Test Acc: 0.7921\n",
            "Epoch: 040, Loss: 0.3850, Train Acc: 0.8340, Test Acc: 0.7968\n",
            "Epoch: 041, Loss: 0.3801, Train Acc: 0.8353, Test Acc: 0.7875\n",
            "Epoch: 042, Loss: 0.3803, Train Acc: 0.8279, Test Acc: 0.7968\n",
            "Epoch: 043, Loss: 0.3776, Train Acc: 0.8481, Test Acc: 0.8199\n",
            "Epoch: 044, Loss: 0.3661, Train Acc: 0.8325, Test Acc: 0.8014\n",
            "Epoch: 045, Loss: 0.3709, Train Acc: 0.8366, Test Acc: 0.8037\n",
            "Epoch: 046, Loss: 0.3665, Train Acc: 0.8394, Test Acc: 0.7991\n",
            "Epoch: 047, Loss: 0.3603, Train Acc: 0.8494, Test Acc: 0.7945\n",
            "Epoch: 048, Loss: 0.3618, Train Acc: 0.8560, Test Acc: 0.8129\n",
            "Epoch: 049, Loss: 0.3587, Train Acc: 0.8317, Test Acc: 0.7968\n",
            "Epoch: 050, Loss: 0.3663, Train Acc: 0.8284, Test Acc: 0.7875\n",
            "Epoch: 051, Loss: 0.3573, Train Acc: 0.8553, Test Acc: 0.8106\n",
            "Epoch: 052, Loss: 0.3615, Train Acc: 0.8563, Test Acc: 0.8060\n",
            "Epoch: 053, Loss: 0.3460, Train Acc: 0.8630, Test Acc: 0.8152\n",
            "Epoch: 054, Loss: 0.3515, Train Acc: 0.8658, Test Acc: 0.8037\n",
            "Epoch: 055, Loss: 0.3414, Train Acc: 0.8640, Test Acc: 0.8199\n",
            "Epoch: 056, Loss: 0.3429, Train Acc: 0.8581, Test Acc: 0.8037\n",
            "Epoch: 057, Loss: 0.3437, Train Acc: 0.8681, Test Acc: 0.8176\n",
            "Epoch: 058, Loss: 0.3452, Train Acc: 0.8668, Test Acc: 0.8152\n",
            "Epoch: 059, Loss: 0.3396, Train Acc: 0.8719, Test Acc: 0.8152\n",
            "Epoch: 060, Loss: 0.3278, Train Acc: 0.8699, Test Acc: 0.8199\n",
            "Epoch: 061, Loss: 0.3327, Train Acc: 0.8704, Test Acc: 0.8176\n",
            "Epoch: 062, Loss: 0.3305, Train Acc: 0.8714, Test Acc: 0.8222\n",
            "Epoch: 063, Loss: 0.3358, Train Acc: 0.8712, Test Acc: 0.8060\n",
            "Epoch: 064, Loss: 0.3326, Train Acc: 0.8724, Test Acc: 0.8060\n",
            "Epoch: 065, Loss: 0.3250, Train Acc: 0.8755, Test Acc: 0.8176\n",
            "Epoch: 066, Loss: 0.3222, Train Acc: 0.8768, Test Acc: 0.8199\n",
            "Epoch: 067, Loss: 0.3128, Train Acc: 0.8768, Test Acc: 0.8176\n",
            "Epoch: 068, Loss: 0.3169, Train Acc: 0.8776, Test Acc: 0.8199\n",
            "Epoch: 069, Loss: 0.3137, Train Acc: 0.8778, Test Acc: 0.8152\n",
            "Epoch: 070, Loss: 0.3240, Train Acc: 0.8776, Test Acc: 0.8199\n",
            "Epoch: 071, Loss: 0.3075, Train Acc: 0.8788, Test Acc: 0.8129\n",
            "Epoch: 072, Loss: 0.3045, Train Acc: 0.8788, Test Acc: 0.8152\n",
            "Epoch: 073, Loss: 0.3106, Train Acc: 0.8819, Test Acc: 0.8152\n",
            "Epoch: 074, Loss: 0.3090, Train Acc: 0.8852, Test Acc: 0.8199\n",
            "Epoch: 075, Loss: 0.3204, Train Acc: 0.8801, Test Acc: 0.8129\n",
            "Epoch: 076, Loss: 0.3031, Train Acc: 0.8814, Test Acc: 0.8106\n",
            "Epoch: 077, Loss: 0.3053, Train Acc: 0.8868, Test Acc: 0.8152\n",
            "Epoch: 078, Loss: 0.3056, Train Acc: 0.8806, Test Acc: 0.8176\n",
            "Epoch: 079, Loss: 0.2963, Train Acc: 0.8765, Test Acc: 0.7991\n",
            "Epoch: 080, Loss: 0.2982, Train Acc: 0.8842, Test Acc: 0.8176\n",
            "Epoch: 081, Loss: 0.2951, Train Acc: 0.8819, Test Acc: 0.8199\n",
            "Epoch: 082, Loss: 0.2967, Train Acc: 0.8873, Test Acc: 0.8176\n",
            "Epoch: 083, Loss: 0.2979, Train Acc: 0.8891, Test Acc: 0.8176\n",
            "Epoch: 084, Loss: 0.2945, Train Acc: 0.8888, Test Acc: 0.8222\n",
            "Epoch: 085, Loss: 0.2882, Train Acc: 0.8893, Test Acc: 0.8245\n",
            "Epoch: 086, Loss: 0.2844, Train Acc: 0.8893, Test Acc: 0.8199\n",
            "Epoch: 087, Loss: 0.2906, Train Acc: 0.8932, Test Acc: 0.8152\n",
            "Epoch: 088, Loss: 0.2840, Train Acc: 0.8942, Test Acc: 0.8152\n",
            "Epoch: 089, Loss: 0.2809, Train Acc: 0.8929, Test Acc: 0.8245\n",
            "Epoch: 090, Loss: 0.2837, Train Acc: 0.8950, Test Acc: 0.8222\n",
            "Epoch: 091, Loss: 0.2841, Train Acc: 0.8873, Test Acc: 0.8106\n",
            "Epoch: 092, Loss: 0.2807, Train Acc: 0.8901, Test Acc: 0.8152\n",
            "Epoch: 093, Loss: 0.2802, Train Acc: 0.8945, Test Acc: 0.8222\n",
            "Epoch: 094, Loss: 0.2776, Train Acc: 0.8901, Test Acc: 0.8245\n",
            "Epoch: 095, Loss: 0.2740, Train Acc: 0.8932, Test Acc: 0.8176\n",
            "Epoch: 096, Loss: 0.2752, Train Acc: 0.8973, Test Acc: 0.8199\n",
            "Epoch: 097, Loss: 0.2778, Train Acc: 0.8914, Test Acc: 0.8222\n",
            "Epoch: 098, Loss: 0.2880, Train Acc: 0.8786, Test Acc: 0.8129\n",
            "Epoch: 099, Loss: 0.3138, Train Acc: 0.8822, Test Acc: 0.7968\n",
            "Epoch: 100, Loss: 0.3061, Train Acc: 0.8870, Test Acc: 0.8152\n"
          ]
        }
      ]
    },
    {
      "cell_type": "markdown",
      "metadata": {
        "id": "PzX9xwFxCTff"
      },
      "source": [
        "## Explaining the predictions\n",
        "\n",
        "Now we look at two popular attribution methods. First, we calculate the gradient of the output with respect to the edge weights $w_{e_i}$. Edge weights are initially one for all edges.\n",
        "For the saliency method, we use the absolute value of the gradient as the attribution value for each edge:\n",
        "\n",
        "$$\n",
        "Attribution_{e_i} = |\\frac{\\partial F(x)}{\\partial w_{e_i}}|\n",
        "$$\n",
        "\n",
        "Where $x$ is the input and $F(x)$ is the output of the GNN model on input $x$.\n",
        "\n",
        "For Integrated Gradients method, we interpolate between the current input and a baseline input where the weight of all edges is zero and accumulate the gradient values for each edge:\n",
        "\n",
        "$$\n",
        "Attribution_{e_i} = \\int_{\\alpha =0}^1 \\frac{\\partial F(x_{\\alpha)}}{\\partial w_{e_i}} d\\alpha\n",
        "$$\n",
        "\n",
        "Where $x_{\\alpha}$ is the same as the original input graph but the weight of all edges is set to $\\alpha$. Integrated Gradients complete formulation is more complicated but since our initial edge weights are equal to one and the baseline is zero, it can be simplified to the formulation above. You can read more about this method [here](https://arxiv.org/abs/1703.01365). Of course, this can not be calculated directly and is approximated by a discrete sum.\n",
        "\n",
        "We use the [captum](https://captum.ai/) library for calculating the attribution values. We define the `model_forward` function which calculates the `batch` argument assuming that we are only explaining a single graph at a time.\n",
        "\n"
      ]
    },
    {
      "cell_type": "code",
      "metadata": {
        "id": "Wz6B1NgorzAX"
      },
      "source": [
        "from captum.attr import Saliency, IntegratedGradients\n",
        "\n",
        "def model_forward(edge_mask, data):\n",
        "    batch = torch.zeros(data.x.shape[0], dtype=int).to(device)\n",
        "    out = model(data.x, data.edge_index, batch, edge_mask)\n",
        "    return out\n",
        "\n",
        "\n",
        "def explain(method, data, target=0):\n",
        "    input_mask = torch.ones(data.edge_index.shape[1]).requires_grad_(True).to(device)\n",
        "    if method == 'ig':\n",
        "        ig = IntegratedGradients(model_forward)\n",
        "        mask = ig.attribute(input_mask, target=target,\n",
        "                            additional_forward_args=(data,),\n",
        "                            internal_batch_size=data.edge_index.shape[1])\n",
        "    elif method == 'saliency':\n",
        "        saliency = Saliency(model_forward)\n",
        "        mask = saliency.attribute(input_mask, target=target,\n",
        "                                  additional_forward_args=(data,))\n",
        "    else:\n",
        "        raise Exception('Unknown explanation method')\n",
        "\n",
        "    edge_mask = np.abs(mask.cpu().detach().numpy())\n",
        "    if edge_mask.max() > 0:  # avoid division by zero\n",
        "        edge_mask = edge_mask / edge_mask.max()\n",
        "    return edge_mask"
      ],
      "execution_count": 10,
      "outputs": []
    },
    {
      "cell_type": "markdown",
      "metadata": {
        "id": "0FPGLRtSFacR"
      },
      "source": [
        "Finally we take a random sample from the test dataset and run the explanation methods. For a simpler visualization, we make the graph undirected and merge the explanations of each edge in both directions.\n",
        "\n",
        "It is known that NO2 substructure makes the molecules mutagenic in many cases and you can verify this by the model explanations.\n",
        "\n",
        "Mutagenic molecules have label 0 in this dataset and we only sample from those molecules but you can change the code and see the explanations for the other class as well.\n",
        "\n",
        "In this visualization, edge colors and thickness represent the importance. You can also see the numeric value by passing `draw_edge_labels` to `draw_molecule` function.\n",
        "\n",
        "As you can see Integrated Gradients tend to create more accurate explanations."
      ]
    },
    {
      "cell_type": "code",
      "metadata": {
        "colab": {
          "base_uri": "https://localhost:8080/",
          "height": 621
        },
        "id": "Z1mJVbKorh5y",
        "outputId": "cdd81f37-f7e8-4446-8371-a47be78545c0"
      },
      "source": [
        "import random\n",
        "from collections import defaultdict\n",
        "\n",
        "def aggregate_edge_directions(edge_mask, data):\n",
        "    edge_mask_dict = defaultdict(float)\n",
        "    for val, u, v in list(zip(edge_mask, *data.edge_index)):\n",
        "        u, v = u.item(), v.item()\n",
        "        if u > v:\n",
        "            u, v = v, u\n",
        "        edge_mask_dict[(u, v)] += val\n",
        "    return edge_mask_dict\n",
        "    \n",
        "\n",
        "data = random.choice([t for t in test_dataset if not t.y.item()])\n",
        "mol = to_molecule(data)\n",
        "\n",
        "for title, method in [('Integrated Gradients', 'ig'), ('Saliency', 'saliency')]:\n",
        "    edge_mask = explain(method, data, target=0)\n",
        "    edge_mask_dict = aggregate_edge_directions(edge_mask, data)\n",
        "    plt.figure(figsize=(10, 5))\n",
        "    plt.title(title)\n",
        "    draw_molecule(mol, edge_mask_dict)"
      ],
      "execution_count": 12,
      "outputs": [
        {
          "output_type": "display_data",
          "data": {
            "image/png": "[encoded data removed]",
            "text/plain": [
              "<Figure size 720x360 with 1 Axes>"
            ]
          },
          "metadata": {}
        },
        {
          "output_type": "display_data",
          "data": {
            "image/png": "[encoded data removed]",
            "text/plain": [
              "<Figure size 720x360 with 1 Axes>"
            ]
          },
          "metadata": {}
        }
      ]
    }
  ]
}